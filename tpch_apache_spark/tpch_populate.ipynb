{
 "cells": [
  {
   "cell_type": "code",
   "execution_count": 1,
   "id": "7a5fb7fb",
   "metadata": {},
   "outputs": [],
   "source": [
    "import glob\n",
    "import time\n",
    "import findspark\n",
    "findspark.init()\n",
    "findspark.find()\n",
    "import pyspark\n",
    "findspark.find()\n",
    "from pyspark.sql import SparkSession"
   ]
  },
  {
   "cell_type": "code",
   "execution_count": 2,
   "id": "bb0011f9",
   "metadata": {},
   "outputs": [],
   "source": [
    "spark = SparkSession \\\n",
    "    .builder \\\n",
    "    .appName(\"tpch\") \\\n",
    "    .config(\"spark.mongodb.input.uri\", \"mongodb://127.0.0.1/tpch\") \\\n",
    "    .config(\"spark.mongodb.output.uri\", \"mongodb://127.0.0.1/tpch\") \\\n",
    "    .config(\"spark.jars.packages\", \"org.mongodb.spark:mongo-spark-connector_2.12:3.0.1\")\\\n",
    "    .config(\"spark.executor.memory\", \"2g\")\\\n",
    "    .getOrCreate()\n"
   ]
  },
  {
   "cell_type": "code",
   "execution_count": 3,
   "id": "7d0ee842",
   "metadata": {},
   "outputs": [],
   "source": [
    "db_name = \"tpch\""
   ]
  },
  {
   "cell_type": "code",
   "execution_count": 4,
   "id": "626e7cf0",
   "metadata": {},
   "outputs": [],
   "source": [
    "json_files = []"
   ]
  },
  {
   "cell_type": "code",
   "execution_count": 5,
   "id": "1fe3eda0",
   "metadata": {},
   "outputs": [],
   "source": [
    "for file in glob.glob(\"*.json\"):\n",
    "    json_files.append(file)"
   ]
  },
  {
   "cell_type": "code",
   "execution_count": 6,
   "id": "7a50fb95",
   "metadata": {},
   "outputs": [],
   "source": [
    "def populate_db(file_name):\n",
    "    file_name_without_extension = file_name.split('.')[0]\n",
    "    df = spark.read.json(file_name, multiLine = \"true\")\n",
    "    df.write.format(\"mongo\").mode(\"append\").option(\"database\",db_name).option(\"collection\", file_name_without_extension).save()"
   ]
  },
  {
   "cell_type": "code",
   "execution_count": 7,
   "id": "3c9bc18a",
   "metadata": {},
   "outputs": [
    {
     "name": "stdout",
     "output_type": "stream",
     "text": [
      "Time taken to populate CUSTOMER collection: 4.21 s\n",
      "Time taken to populate LINEITEM collection: 17.57 s\n",
      "Time taken to populate NATION collection: 0.28 s\n",
      "Time taken to populate ORDERS collection: 3.07 s\n",
      "Time taken to populate PART collection: 0.66 s\n",
      "Time taken to populate PARTSUPP collection: 1.34 s\n",
      "Time taken to populate REGION collection: 0.19 s\n",
      "Time taken to populate SUPPLIER collection: 0.25 s\n",
      "Total time taken: 27.58 s\n"
     ]
    }
   ],
   "source": [
    "strat_time = start_func_time =  end_time = time.time()\n",
    "for file in json_files:\n",
    "    strat_time = time.time()\n",
    "    populate_db(file)\n",
    "    end_time = time.time()\n",
    "    print(\"Time taken to populate %s Collection: %.2f s\" %(file.split(\".\")[0], end_time - strat_time))\n",
    "end_time = time.time()\n",
    "\n",
    "print(\"Total time taken: %.2f s\" %(end_time - start_func_time))"
   ]
  },
  {
   "cell_type": "code",
   "execution_count": 6,
   "id": "63dcef5b",
   "metadata": {},
   "outputs": [],
   "source": [
    "spark.stop()"
   ]
  },
  {
   "cell_type": "code",
   "execution_count": null,
   "id": "c1dc8623",
   "metadata": {},
   "outputs": [],
   "source": []
  }
 ],
 "metadata": {
  "kernelspec": {
   "display_name": "Python 3",
   "language": "python",
   "name": "python3"
  },
  "language_info": {
   "codemirror_mode": {
    "name": "ipython",
    "version": 3
   },
   "file_extension": ".py",
   "mimetype": "text/x-python",
   "name": "python",
   "nbconvert_exporter": "python",
   "pygments_lexer": "ipython3",
   "version": "3.8.10"
  }
 },
 "nbformat": 4,
 "nbformat_minor": 5
}
