{
 "cells": [
  {
   "cell_type": "code",
   "execution_count": 1,
   "id": "78f0af20",
   "metadata": {},
   "outputs": [],
   "source": [
    "import pandas as pd\n",
    "import glob"
   ]
  },
  {
   "cell_type": "code",
   "execution_count": 2,
   "id": "f3deaece",
   "metadata": {},
   "outputs": [],
   "source": [
    "tbl_files = []"
   ]
  },
  {
   "cell_type": "code",
   "execution_count": 3,
   "id": "80a944bc",
   "metadata": {},
   "outputs": [],
   "source": [
    "for file in glob.glob(\"*.tbl\"):\n",
    "    tbl_files.append(file)"
   ]
  },
  {
   "cell_type": "code",
   "execution_count": 4,
   "id": "34ee68b6",
   "metadata": {},
   "outputs": [],
   "source": [
    "table_col_map = {}"
   ]
  },
  {
   "cell_type": "code",
   "execution_count": 5,
   "id": "6e0e0f72",
   "metadata": {},
   "outputs": [],
   "source": [
    "table_col_map['part'] = ['P_PARTKEY','P_NAME','P_MFGR','P_BRAND','P_TYPE','P_SIZE','P_CONTAINER','P_RETAILPRICE','P_COMMENT']\n",
    "table_col_map['partsupp'] = ['PS_PARTKEY','PS_SUPPKEY','PS_AVAILQTY','PS_SUPPLYCOST','PS_COMMENT']\n",
    "table_col_map['nation'] = ['N_NATIONKEY', 'N_NAME', 'N_REGIONKEY', 'N_COMMENT']\n",
    "table_col_map['orders'] = ['O_ORDERKEY','O_CUSTKEY','O_ORDERSTATUS','O_TOTALPRICE','O_ORDERDATE','O_ORDERPRIORITY','O_CLERK','O_SHIPPRIORITY','O_COMMENT']\n",
    "table_col_map['customer'] = ['C_CUSTKEY','C_NAME','C_ADDRESS','C_NATIONKEY','C_PHONE','C_ACCTBAL','C_MKTSEGMENT','C_COMMENT']\n",
    "table_col_map['supplier'] = ['S_SUPPKEY','S_NAME','S_ADDRESS','S_NATIONKEY','S_PHONE','S_ACCTBAL','S_COMMENT']\n",
    "table_col_map['lineitem'] = ['L_ORDERKEY','L_PARTKEY','L_SUPPKEY','L_LINENUMBER','L_QUANTITY','L_EXTENDEDPRICE','L_DISCOUNT','L_TAX','L_RETURNFLAG','L_LINESTATUS','L_SHIPDATE','L_COMMITDATE','L_RECEIPTDATE','L_SHIPINSTRUCT','L_SHIPMODE','L_COMMENT']\n",
    "table_col_map['region'] = ['R_REGIONKEY', 'R_NAME', 'R_COMMENT']"
   ]
  },
  {
   "cell_type": "code",
   "execution_count": 6,
   "id": "79a39c4e",
   "metadata": {},
   "outputs": [],
   "source": [
    "def convert_to_json(file_name):\n",
    "    file_name_without_extension = file_name.split('.')[0]\n",
    "    col = table_col_map[file_name_without_extension]\n",
    "    col.append('dump')\n",
    "    df = pd.read_table(file_name, sep='|', header=None)\n",
    "    df.columns = col\n",
    "    df.drop('dump', inplace=True, axis=1)\n",
    "    output_file_name = file_name_without_extension.upper() + '.json'\n",
    "    df.to_json(output_file_name,orient='records')\n",
    "    "
   ]
  },
  {
   "cell_type": "code",
   "execution_count": 7,
   "id": "906f580b",
   "metadata": {},
   "outputs": [],
   "source": [
    "for file in tbl_files:\n",
    "    convert_to_json(file)"
   ]
  },
  {
   "cell_type": "code",
   "execution_count": null,
   "id": "2fbdf882",
   "metadata": {},
   "outputs": [],
   "source": []
  }
 ],
 "metadata": {
  "kernelspec": {
   "display_name": "Python 3",
   "language": "python",
   "name": "python3"
  },
  "language_info": {
   "codemirror_mode": {
    "name": "ipython",
    "version": 3
   },
   "file_extension": ".py",
   "mimetype": "text/x-python",
   "name": "python",
   "nbconvert_exporter": "python",
   "pygments_lexer": "ipython3",
   "version": "3.8.10"
  }
 },
 "nbformat": 4,
 "nbformat_minor": 5
}
